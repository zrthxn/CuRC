{
 "cells": [
  {
   "cell_type": "markdown",
   "id": "651c41d9-420a-4e96-af86-0ccfa1fcd7b2",
   "metadata": {},
   "source": [
    "### <center><font color=navy> Tutorial #6 Computer- and robot-assisted surgery</font></center>\n",
    "## <center><font color=navy> Segmentation I</font></center>\n",
    "<center>&copy; Sebastian Bodenstedt, National Center for Tumor Diseases (NCT) Dresden<br>\n",
    "    <a href=\"https://www.nct-dresden.de/\"><img src=\"https://www.nct-dresden.de/++theme++nct/images/logo-nct-en.svg\"></a> </center>"
   ]
  },
  {
   "cell_type": "markdown",
   "id": "ad2a39e8-11e2-4924-9b39-76590ee4a258",
   "metadata": {},
   "source": [
    "## <center><font color=navy>Preperation</font></center>"
   ]
  },
  {
   "cell_type": "markdown",
   "id": "36f6b125-ddac-45d1-9bca-b1ff36588acf",
   "metadata": {},
   "source": [
    "For this tutorial, we will utilize the OpenCV, Matplotlib and NumPy:"
   ]
  },
  {
   "cell_type": "code",
   "execution_count": null,
   "id": "15771f22-b5e5-4a26-9ff5-3a6285d6d46a",
   "metadata": {},
   "outputs": [],
   "source": [
    "# Install numpy, opencv, skimage and matplot-lib pip packages into the current Jupyter kernel\n",
    "import sys\n",
    "!{sys.executable} -m pip install numpy opencv-python matplotlib matplotlib-inline scikit-image"
   ]
  },
  {
   "cell_type": "code",
   "execution_count": null,
   "id": "eb072f65-e316-4971-af26-99319c4584c1",
   "metadata": {},
   "outputs": [],
   "source": [
    "import cv2\n",
    "import numpy as np\n",
    "# Force Matplotlib to display data directly in Jupyter\n",
    "%matplotlib inline \n",
    "from matplotlib import pyplot as plt"
   ]
  },
  {
   "cell_type": "markdown",
   "id": "064408b2-2803-49b3-ac0c-c2e2f190d735",
   "metadata": {},
   "source": [
    "We will also download and extract some data:"
   ]
  },
  {
   "cell_type": "code",
   "execution_count": null,
   "id": "4ad1f45c-9c7a-4d5f-a3a9-32e76298d5ce",
   "metadata": {},
   "outputs": [],
   "source": [
    "import urllib.request\n",
    "from os.path import basename, exists\n",
    "import zipfile\n",
    "\n",
    "def download_and_extract(url): #download and extract Zip archive\n",
    "    file_path = basename(url)\n",
    "    if not exists(file_path): # does zip file already exist?\n",
    "        urllib.request.urlretrieve(url, file_path) # if not, download it\n",
    "        with zipfile.ZipFile(file_path, 'r') as zip_ref: # and unzip it\n",
    "            zip_ref.extractall(\".\")"
   ]
  },
  {
   "cell_type": "code",
   "execution_count": null,
   "id": "7f94bfb6-1886-4889-ac54-095702a2093f",
   "metadata": {},
   "outputs": [],
   "source": [
    "download_and_extract(\"http://tso.ukdd.de/crs/SegmentationI.zip\")"
   ]
  },
  {
   "cell_type": "markdown",
   "id": "6da43280-1dfc-4da7-847f-6d1fc6b29ad3",
   "metadata": {},
   "source": [
    "We now list the extracted files:"
   ]
  },
  {
   "cell_type": "code",
   "execution_count": null,
   "id": "ff4538ff-1119-4562-9395-7a9f279d37f8",
   "metadata": {},
   "outputs": [],
   "source": [
    "!dir *"
   ]
  },
  {
   "cell_type": "markdown",
   "id": "2f6e2ce0-3e57-4585-b6f6-19f26f5fee66",
   "metadata": {},
   "source": [
    "## <center><font color=navy>Basic functions</font></center>\n",
    "We define a function for displaying grayscale images"
   ]
  },
  {
   "cell_type": "code",
   "execution_count": null,
   "id": "18739d94-3631-4a09-80db-32cd319fb47c",
   "metadata": {},
   "outputs": [],
   "source": [
    "def show_gray(img, canvas=plt, title=\"\"): # Later we want to draw on a different underground, so we define this as a parameter\n",
    "    canvas.imshow(img, cmap='gray', vmin=0, vmax=255)\n",
    "    if not title == \"\":\n",
    "        canvas.set_title(title)"
   ]
  },
  {
   "cell_type": "markdown",
   "id": "70e5d0c2-f7b5-4d5d-8c8d-ae8c6d9860db",
   "metadata": {},
   "source": [
    "We can utilize OpenCV to read one of the images from HD and NumPy to process the data. The image can be converted to grayscale and displayed:Review"
   ]
  },
  {
   "cell_type": "code",
   "execution_count": null,
   "id": "65c5ea7a-ce82-4490-a5e8-c771a0404c33",
   "metadata": {},
   "outputs": [],
   "source": [
    "img = cv2.imread(\"SegmentationI/img_01_raw.png\") # Read image from HD\n",
    "\n",
    "img_rgb = cv2.cvtColor(img, cv2.COLOR_BGR2RGB) # Convert BGR to RGB\n",
    "\n",
    "figure, axis = plt.subplots(1, 2, figsize=(15, 15)) # subplots let you visualize multiple outputs simultanously\n",
    "\n",
    "img_gray = cv2.cvtColor(img, cv2.COLOR_BGR2GRAY) # Convert BGR to grayscale\n",
    "\n",
    "axis[0].imshow(img_rgb)\n",
    "show_gray(img_gray, axis[1])"
   ]
  },
  {
   "cell_type": "markdown",
   "id": "3555b460-ebb8-40ff-bf54-28187792a393",
   "metadata": {},
   "source": [
    "## <center><font color=navy>Segmentation with OpenCV and Scikit Image</font></center>\n"
   ]
  },
  {
   "cell_type": "code",
   "execution_count": null,
   "id": "492c2add-cf07-4576-881e-6075a1d56755",
   "metadata": {},
   "outputs": [],
   "source": [
    "img = cv2.imread(\"SegmentationI/image_n0.png\")\n",
    "\n",
    "img_rgb = cv2.cvtColor(img, cv2.COLOR_BGR2RGB) # Convert BGR to RGB\n",
    "\n",
    "figure, axis = plt.subplots(1, 2, figsize=(15, 15)) # subplots let you visualize multiple outputs simultanously\n",
    "\n",
    "img_gray = cv2.cvtColor(img, cv2.COLOR_BGR2GRAY) # Convert BGR to grayscale\n",
    "\n",
    "axis[0].imshow(img_rgb)\n",
    "show_gray(img_gray, axis[1])"
   ]
  },
  {
   "cell_type": "markdown",
   "id": "20ba17b7-2688-4e97-9b31-d00cbf62eda2",
   "metadata": {},
   "source": [
    "We can use the OpenCV to perform a simple threshold segmentation:"
   ]
  },
  {
   "cell_type": "code",
   "execution_count": null,
   "id": "75c42d3b-41a9-446d-a564-80438f94aeb9",
   "metadata": {},
   "outputs": [],
   "source": [
    "threshold = 200\n",
    "max_value = 255\n",
    "\n",
    "threshold_type = cv2.THRESH_BINARY\n",
    "#threshold_type = cv2.THRESH_BINARY_INV\n",
    "\n",
    "_, dst = cv2.threshold(img_gray, threshold, max_value, threshold_type)\n",
    "\n",
    "figure, axis = plt.subplots(1, 2, figsize=(15, 15)) # subplots let you visualize multiple outputs simultanously\n",
    "\n",
    "show_gray(img_gray, axis[0])\n",
    "show_gray(dst, axis[1])"
   ]
  },
  {
   "cell_type": "code",
   "execution_count": null,
   "id": "bcfdf4fb-31f8-4822-a006-d88dde1face7",
   "metadata": {},
   "outputs": [],
   "source": [
    "def calc_histogram(image):\n",
    "    num_values = 256 # Number of values to consider. For 8-bit 256 values are possible\n",
    "\n",
    "    histogram = np.zeros(num_values, dtype=np.int64) # Initialize histogram with zeros\n",
    "    \n",
    "    for i in range(num_values): # Iterate over all possible values\n",
    "        histogram[i] = np.sum(image == i) # Count occurences in data\n",
    "    # OR:\n",
    "    #histogram = cv2.calcHist([img_gray],[0],None,[256],[0,256])\n",
    "    #histogram = hist.reshape(-1) # Modify shape\n",
    "    normalized_histogram = histogram/(image.shape[0]*image.shape[1]) # Normalize histogram\n",
    "\n",
    "    return normalized_histogram"
   ]
  },
  {
   "cell_type": "markdown",
   "id": "e73299ee-2630-4fd9-bd3e-f099b5563296",
   "metadata": {},
   "source": [
    "We can also use Otsu thresholding to segment individual objects:"
   ]
  },
  {
   "cell_type": "code",
   "execution_count": null,
   "id": "a8b50ebf-72a6-4779-8bdd-21774b6b9c82",
   "metadata": {},
   "outputs": [],
   "source": [
    "from skimage.filters import threshold_multiotsu\n",
    "\n",
    "classes = 6\n",
    "\n",
    "thresholds_rgb = threshold_multiotsu(img_gray, classes) + 1 # Calculate the thresholds for the histogram bins\n",
    "\n",
    "print(thresholds_rgb)\n",
    "\n",
    "figure, axis = plt.subplots(1, 3, figsize=(15, 15)) # subplots let you visualize multiple outputs simultanously\n",
    "\n",
    "show_gray(img_gray, axis[0])\n",
    "\n",
    "hist = calc_histogram(img_gray) # Calculate histogram\n",
    "axis[1].stairs(hist)\n",
    "for thresh in thresholds_rgb: # Show bins\n",
    "    axis[1].axvline(thresh, color='r')\n",
    "    \n",
    "regions = np.digitize(img_gray, bins=thresholds_rgb) # Assign each pixel to its bin\n",
    "\n",
    "axis[2].imshow(regions, cmap='jet')"
   ]
  },
  {
   "cell_type": "markdown",
   "id": "a9e5456a-beaa-4216-8605-f536cda82a93",
   "metadata": {},
   "source": [
    "Sometimes it makes sense to examine the HSV color space:"
   ]
  },
  {
   "cell_type": "code",
   "execution_count": null,
   "id": "2bb24fcd-1f9d-4eb9-bc4c-293cf8ac3002",
   "metadata": {},
   "outputs": [],
   "source": [
    "figure, axis = plt.subplots(3, 2, figsize=(15, 15)) # subplots let you visualize multiple outputs simultanously\n",
    "\n",
    "img_hsv = cv2.cvtColor(img_rgb, cv2.COLOR_RGB2HSV)\n",
    "\n",
    "axis[0, 0].imshow(img_rgb)\n",
    "show_gray(img_hsv[:, :, 0], axis[1, 0])\n",
    "ind_red = img_hsv[:, :, 0] == 0\n",
    "show_gray(ind_red*255, axis[2, 0])\n",
    "\n",
    "img_rgb_mod = img_rgb.astype(np.int64) - 50\n",
    "img_rgb_mod = np.clip(img_rgb_mod, 0, 255).astype(np.uint8)\n",
    "\n",
    "img_hsv_mod = cv2.cvtColor(img_rgb_mod, cv2.COLOR_RGB2HSV)\n",
    "\n",
    "axis[0, 1].imshow(img_rgb_mod)\n",
    "show_gray(img_hsv_mod[:, :, 0], axis[1, 1])\n",
    "ind_red_mod = img_hsv_mod[:, :, 0] == 0\n",
    "show_gray(ind_red_mod*255, axis[2, 1])"
   ]
  },
  {
   "cell_type": "markdown",
   "id": "b2eff8e8-00e6-4c1c-bbdc-67ac5c7fd226",
   "metadata": {},
   "source": [
    "We will now try to implement our own version of the Region Growing algorithm. First we load a suitable image:"
   ]
  },
  {
   "cell_type": "code",
   "execution_count": null,
   "id": "b4268c61-1e04-42ab-9a43-a3a3d625de6b",
   "metadata": {},
   "outputs": [],
   "source": [
    "img = cv2.imread(\"SegmentationI/ct.png\")\n",
    "\n",
    "img_gray = cv2.cvtColor(img, cv2.COLOR_BGR2GRAY)\n",
    "\n",
    "show_gray(img_gray)"
   ]
  },
  {
   "cell_type": "markdown",
   "id": "21014410-e9bb-418b-a76b-a63d3749f4bc",
   "metadata": {},
   "source": [
    "We then define a few seeds:"
   ]
  },
  {
   "cell_type": "code",
   "execution_count": null,
   "id": "8c5a139d-c8f5-40a8-8190-df0594c05825",
   "metadata": {},
   "outputs": [],
   "source": [
    "seeds = [[300, 100],\n",
    "         [200, 120],\n",
    "         [150, 90],\n",
    "         [100, 165]]\n",
    "\n",
    "# Lets draw the points\n",
    "img_rgb = cv2.cvtColor(img, cv2.COLOR_BGR2RGB)\n",
    "\n",
    "for seed in seeds:\n",
    "    # TODO Draw points on image\n",
    "    \n",
    "plt.imshow(img_rgb)"
   ]
  },
  {
   "cell_type": "markdown",
   "id": "f2798f58-9258-425e-a881-77e10162e8df",
   "metadata": {},
   "source": [
    "Now we implement our own region growing algorithm:"
   ]
  },
  {
   "cell_type": "code",
   "execution_count": null,
   "id": "7729ab16-ac41-44ff-b9ad-e6f7004597c7",
   "metadata": {},
   "outputs": [],
   "source": [
    "def region_growing(image, seeds, threshold):\n",
    "    segmentation = np.zeros(image.shape, dtype=bool)\n",
    "    visited = np.zeros(image.shape, dtype=bool)\n",
    "    \n",
    "    # TODO Implement ;)               \n",
    "        \n",
    "    return segmentation\n",
    "    "
   ]
  },
  {
   "cell_type": "markdown",
   "id": "37c9d532-df95-4b19-889c-8bfb5b04b908",
   "metadata": {},
   "source": [
    "We then try out our new routine on an image:"
   ]
  },
  {
   "cell_type": "code",
   "execution_count": null,
   "id": "d957f2df-c752-48d1-b8c0-6a534a312fc6",
   "metadata": {},
   "outputs": [],
   "source": [
    "seeds = [[300, 100],\n",
    "         [200, 120],\n",
    "         [150, 90],\n",
    "         [100, 165]]\n",
    "\n",
    "threshold = 1\n",
    "\n",
    "seg = region_growing(img_gray, seeds, threshold)\n",
    "\n",
    "seg = seg.astype(np.uint8)*255\n",
    "\n",
    "figure, axis = plt.subplots(1, 3, figsize=(15, 15)) # subplots let you visualize multiple outputs simultanously\n",
    "\n",
    "show_gray(img_gray, axis[0])\n",
    "axis[1].imshow(img_rgb)\n",
    "show_gray(seg, axis[2])"
   ]
  },
  {
   "cell_type": "markdown",
   "id": "2ca2a270-2059-4fa7-beea-3d05ba365cb1",
   "metadata": {},
   "source": [
    "We can also try out Active Contours:"
   ]
  },
  {
   "cell_type": "code",
   "execution_count": null,
   "id": "617cd3b2-811f-47dc-aeef-f9bdb334b37d",
   "metadata": {},
   "outputs": [],
   "source": [
    "# We define first a circle\n",
    "radius = 35\n",
    "y = 300\n",
    "x = 285\n",
    "s = np.linspace(0, 2*np.pi, 200)\n",
    "r = y + radius*np.sin(s)\n",
    "c = x + radius*np.cos(s)\n",
    "init = np.array([r, c]).T\n",
    "\n",
    "show_gray(img_gray)\n",
    "plt.plot(init[:, 1], init[:, 0], '--r', lw=3)"
   ]
  },
  {
   "cell_type": "code",
   "execution_count": null,
   "id": "637772ed-28ee-4878-a581-d2dfade55a3d",
   "metadata": {},
   "outputs": [],
   "source": [
    "from skimage.segmentation import active_contour\n",
    "\n",
    "snake = active_contour(img_gray, init, alpha=0.015, beta=10, gamma=0.001)\n",
    "\n",
    "figure, axis = plt.subplots(1, 2, figsize=(15, 15)) # subplots let you visualize multiple outputs simultanously\n",
    "\n",
    "show_gray(img_gray, axis[0])\n",
    "axis[0].plot(init[:, 1], init[:, 0], '--r', lw=3)\n",
    "\n",
    "show_gray(img_gray, axis[1])\n",
    "axis[1].plot(snake[:, 1], snake[:, 0], '-b', lw=3)"
   ]
  },
  {
   "cell_type": "markdown",
   "id": "dc0789d3-e620-4b73-8260-968d6278180e",
   "metadata": {},
   "source": [
    "## <center><font color=navy>Segmentation with OpenCV and Scikit Image</font></center>\n",
    "Try to find the hidden message ;)"
   ]
  },
  {
   "cell_type": "code",
   "execution_count": null,
   "id": "a8c550af-fbef-47bb-b14c-eb453ce18e2d",
   "metadata": {},
   "outputs": [],
   "source": [
    "img = cv2.imread(\"SegmentationI/hidden.png\")\n",
    "\n",
    "plt.imshow(img)"
   ]
  },
  {
   "cell_type": "code",
   "execution_count": null,
   "id": "554ae0c9-f95c-42ee-9c3f-236c0b4a4ddd",
   "metadata": {},
   "outputs": [],
   "source": []
  }
 ],
 "metadata": {
  "kernelspec": {
   "display_name": "Python 3 (ipykernel)",
   "language": "python",
   "name": "python3"
  },
  "language_info": {
   "codemirror_mode": {
    "name": "ipython",
    "version": 3
   },
   "file_extension": ".py",
   "mimetype": "text/x-python",
   "name": "python",
   "nbconvert_exporter": "python",
   "pygments_lexer": "ipython3",
   "version": "3.8.10"
  }
 },
 "nbformat": 4,
 "nbformat_minor": 5
}
