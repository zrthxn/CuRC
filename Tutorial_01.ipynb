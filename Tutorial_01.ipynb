{
 "cells": [
  {
   "cell_type": "markdown",
   "id": "651c41d9-420a-4e96-af86-0ccfa1fcd7b2",
   "metadata": {},
   "source": [
    "# <center><font color=navy> Tutorial #1 Computer- and robot-assisted surgery</font></center>\n",
    "## <center><font color=navy> Introduction to Jupyter Notebooks</font></center>\n",
    "<center>&copy; Sebastian Bodenstedt, National Center for Tumor Diseases (NCT) Dresden<br>\n",
    "    <a href=\"https://www.nct-dresden.de/\"><img src=\"https://www.nct-dresden.de/++theme++nct/images/logo-nct-en.svg\"></a> </center>"
   ]
  },
  {
   "cell_type": "markdown",
   "id": "36f6b125-ddac-45d1-9bca-b1ff36588acf",
   "metadata": {},
   "source": [
    "You can directly type Python code into a cell and execute it. Pressing Shift + R runs the code in the cell"
   ]
  },
  {
   "cell_type": "code",
   "execution_count": null,
   "id": "eb072f65-e316-4971-af26-99319c4584c1",
   "metadata": {},
   "outputs": [],
   "source": [
    "print(\"Hello World\")"
   ]
  },
  {
   "cell_type": "markdown",
   "id": "064408b2-2803-49b3-ac0c-c2e2f190d735",
   "metadata": {},
   "source": [
    "Variables between cells are shared. If you assign a value in a cell:"
   ]
  },
  {
   "cell_type": "code",
   "execution_count": null,
   "id": "4ad1f45c-9c7a-4d5f-a3a9-32e76298d5ce",
   "metadata": {},
   "outputs": [],
   "source": [
    "value = 1"
   ]
  },
  {
   "cell_type": "markdown",
   "id": "6da43280-1dfc-4da7-847f-6d1fc6b29ad3",
   "metadata": {},
   "source": [
    "You can access it in another cell later on:"
   ]
  },
  {
   "cell_type": "code",
   "execution_count": null,
   "id": "65c5ea7a-ce82-4490-a5e8-c771a0404c33",
   "metadata": {},
   "outputs": [],
   "source": [
    "print(value)"
   ]
  },
  {
   "cell_type": "markdown",
   "id": "53f9dffd-36bf-43e8-85f6-dd022d01bfec",
   "metadata": {},
   "source": [
    "If you modify the value afterwards, you can re-run the above cell and it will reflect this change."
   ]
  },
  {
   "cell_type": "code",
   "execution_count": null,
   "id": "1ad59d46-cb5d-4d5f-9beb-85e922de607d",
   "metadata": {},
   "outputs": [],
   "source": [
    "value += 1"
   ]
  },
  {
   "cell_type": "markdown",
   "id": "fcbde30b-7b3b-4113-9553-b9654963a626",
   "metadata": {},
   "source": [
    "You can also define a function in one cell:"
   ]
  },
  {
   "cell_type": "code",
   "execution_count": null,
   "id": "b0264d25-98f3-408f-9f78-b209e4d168e3",
   "metadata": {},
   "outputs": [],
   "source": [
    "def say_hello_to(text):\n",
    "    print(\"Hello \" + text + \"!\")"
   ]
  },
  {
   "cell_type": "markdown",
   "id": "e6205b8f-820f-4b87-9159-72b2d21a0e51",
   "metadata": {},
   "source": [
    "And use it somewhere else:"
   ]
  },
  {
   "cell_type": "code",
   "execution_count": null,
   "id": "d29d91ed-48e9-483b-b189-cbb67558810d",
   "metadata": {},
   "outputs": [],
   "source": [
    "say_hello_to(\"World\")"
   ]
  },
  {
   "cell_type": "markdown",
   "id": "8afaa462-f52b-40c9-a7e5-0fb6a28bdc18",
   "metadata": {},
   "source": [
    "Jupyter notebooks have all the functionality provided by a standard python environment, e.g. importing outside libraries and using their functions (Reminder: in Jupyter lab, pressing TAB shows autocompletion options):"
   ]
  },
  {
   "cell_type": "code",
   "execution_count": null,
   "id": "7cfd2c6b-4f15-4af2-aa2c-e7f6ed5fe128",
   "metadata": {},
   "outputs": [],
   "source": [
    "import random # library for pseudo-random number generation\n",
    "\n",
    "r = random.random() # generate pseudo-random number from range [0.0, 1.0)\n",
    "\n",
    "print(r) # print number\n"
   ]
  },
  {
   "cell_type": "markdown",
   "id": "903b90f7-29b8-48b9-bc26-4e21cd044e81",
   "metadata": {},
   "source": [
    "Jupyter can not only run Python commands, it can also execute programs, e.g. wget to download an image from the internet (http://tso.ukdd.de/crs/surgery.png):"
   ]
  },
  {
   "cell_type": "code",
   "execution_count": null,
   "id": "5a02456b-295c-4fbc-8ae9-f860268c66b2",
   "metadata": {},
   "outputs": [],
   "source": [
    "!wget http://tso.ukdd.de/crs/surgery.png"
   ]
  },
  {
   "cell_type": "markdown",
   "id": "3555b460-ebb8-40ff-bf54-28187792a393",
   "metadata": {},
   "source": [
    "Commands can also be used to install Python packets, e.g. via pip:"
   ]
  },
  {
   "cell_type": "code",
   "execution_count": null,
   "id": "492c2add-cf07-4576-881e-6075a1d56755",
   "metadata": {},
   "outputs": [],
   "source": [
    "# Install numpy and opencv pip package into the current Jupyter kernel\n",
    "import sys\n",
    "!{sys.executable} -m pip install numpy opencv-python"
   ]
  },
  {
   "cell_type": "markdown",
   "id": "23d343b6-69af-4731-94ed-d4dedc5aa7a4",
   "metadata": {},
   "source": [
    "## <center><font color=navy> Introduction to OpenCV and Numpy</font></center>"
   ]
  },
  {
   "cell_type": "markdown",
   "id": "ad9d2a49-b12e-40ed-a46f-92286517d54c",
   "metadata": {},
   "source": [
    "OpenCV provides mainly functionalities for digital image processing. It can easily be used to load images from disk:"
   ]
  },
  {
   "cell_type": "code",
   "execution_count": null,
   "id": "87367ad6-8487-4e99-9a4c-86da10e3692b",
   "metadata": {},
   "outputs": [],
   "source": [
    "import cv2\n",
    "import numpy as np"
   ]
  },
  {
   "cell_type": "code",
   "execution_count": null,
   "id": "f6915c6c-ca1d-4b3b-ae4d-94df058b75b9",
   "metadata": {},
   "outputs": [],
   "source": [
    "img = cv2.imread(\"surgery.png\")"
   ]
  },
  {
   "cell_type": "markdown",
   "id": "88e8bd0d-27fe-47da-8559-517bb2d31ed8",
   "metadata": {},
   "source": [
    "OpenCV returns a Numpy array, containing the image:"
   ]
  },
  {
   "cell_type": "code",
   "execution_count": null,
   "id": "e566faa1-ee96-4bc5-a422-be4afc4898e3",
   "metadata": {},
   "outputs": [],
   "source": [
    "print(img.shape) # Examine the dimensions of the image\n",
    "print(img.dtype) # Examine the datatype of the image"
   ]
  },
  {
   "cell_type": "markdown",
   "id": "b7f38e2a-68ff-47f2-a00d-6b0a276751d2",
   "metadata": {},
   "source": [
    "Here it can be seen, that the image is a 1280x1024 matrix with 3 channels of type 8-bit integer (range 0...255).The image can then be displayed, e.g. using matplotlib:"
   ]
  },
  {
   "cell_type": "code",
   "execution_count": null,
   "id": "e030663f-1a21-4db4-8452-7b334ab36ca8",
   "metadata": {},
   "outputs": [],
   "source": [
    "%matplotlib inline \n",
    "from matplotlib import pyplot as plt # this lets you draw inline pictures in the notebooks"
   ]
  },
  {
   "cell_type": "code",
   "execution_count": null,
   "id": "ec62a13e-e19c-49e8-a695-79ab925ac498",
   "metadata": {},
   "outputs": [],
   "source": [
    "plt.imshow(img)"
   ]
  },
  {
   "cell_type": "markdown",
   "id": "9c8d6800-5c15-445b-b796-43daeb64df67",
   "metadata": {},
   "source": [
    "The resulting image seems to appear rather odd: This is due to OpenCV using a different convention for describing color images. Standard is RGB (red green blue), OpenCV instead uses RGB.\n",
    "The image can be displayed appropriatly by either converting explicitly to RGB or by flipping an axis:"
   ]
  },
  {
   "cell_type": "code",
   "execution_count": null,
   "id": "67b1c5a0-3ba8-484e-9ab7-ac5a2897a5d0",
   "metadata": {},
   "outputs": [],
   "source": [
    "img_rgb = cv2.cvtColor(img, cv2.COLOR_BGR2RGB) # Convert to RGB\n",
    "img_rgb2 = img[:,:,::-1] # Flip final axis"
   ]
  },
  {
   "cell_type": "code",
   "execution_count": null,
   "id": "ec5b40b5-4b56-4b28-a597-a5b49f59283d",
   "metadata": {},
   "outputs": [],
   "source": [
    "plt.imshow(img_rgb)"
   ]
  },
  {
   "cell_type": "code",
   "execution_count": null,
   "id": "8ec90652-3bc1-4210-a95b-4d9d9624baa6",
   "metadata": {},
   "outputs": [],
   "source": [
    "plt.imshow(img_rgb2)"
   ]
  },
  {
   "cell_type": "markdown",
   "id": "b740f918-b92c-43a3-b761-cf09cdbf2449",
   "metadata": {},
   "source": [
    "Since the images are numpy arrays, we can perform different indexing operations on a given image, e.g. set the red channel for an image to 0:"
   ]
  },
  {
   "cell_type": "code",
   "execution_count": null,
   "id": "92788356-8248-4370-a844-0970626447d1",
   "metadata": {},
   "outputs": [],
   "source": [
    "tmp_img = np.copy(img_rgb) # Create a copy of the image\n",
    "tmp_img[0:512, 0:640, :] -= 20 # Set the red channel to 0\n",
    "\n",
    "plt.imshow(tmp_img)"
   ]
  },
  {
   "cell_type": "markdown",
   "id": "8c137108-2bc3-476e-811d-b7e10cf0ea60",
   "metadata": {},
   "source": [
    "or set a column (or range of columns) to white:"
   ]
  },
  {
   "cell_type": "code",
   "execution_count": null,
   "id": "d5c7b2a2-6798-4fb8-8f16-9bb4813aab71",
   "metadata": {},
   "outputs": [],
   "source": [
    "tmp_img = np.copy(img_rgb) # Create a copy of the image\n",
    "tmp_img[:, -10,:] = 255 # Set column 25 to 255 (white)\n",
    "\n",
    "plt.imshow(tmp_img)"
   ]
  },
  {
   "cell_type": "code",
   "execution_count": null,
   "id": "f3f5d073-bcf0-4474-b0b0-3806d04894c6",
   "metadata": {},
   "outputs": [],
   "source": [
    "tmp_img = np.copy(img_rgb) # Create a copy of the image\n",
    "tmp_img[:, 25:35,:] = 255 # Set column 25 through (exclusive) 35 to 255 (white)\n",
    "\n",
    "plt.imshow(tmp_img)"
   ]
  },
  {
   "cell_type": "markdown",
   "id": "c13bc0cb-5901-48ce-b005-98d677b91519",
   "metadata": {},
   "source": [
    "It is also possible to look at the three color channels of an image separately: "
   ]
  },
  {
   "cell_type": "code",
   "execution_count": null,
   "id": "788f1235-7f0f-462f-a1d1-da5dc27afd5b",
   "metadata": {},
   "outputs": [],
   "source": [
    "plt.imshow(img_rgb[:,:,0], cmap='gray', vmin=0, vmax=255) # display red channel"
   ]
  },
  {
   "cell_type": "code",
   "execution_count": null,
   "id": "c2f36a5c-2e5f-4a11-8d07-3e6e792adc7a",
   "metadata": {},
   "outputs": [],
   "source": [
    "plt.imshow(img_rgb[:,:,1], cmap='gray', vmin=0, vmax=255) # display green channel"
   ]
  },
  {
   "cell_type": "code",
   "execution_count": null,
   "id": "a3e13e54-5f13-4114-8aa0-66a184dbf068",
   "metadata": {},
   "outputs": [],
   "source": [
    "plt.imshow(img_rgb[:,:,2], cmap='gray', vmin=0, vmax=255) # display blue channel"
   ]
  },
  {
   "cell_type": "markdown",
   "id": "dccc38b3-0be9-4a17-9cb8-52b29c6cf418",
   "metadata": {},
   "source": [
    "Furthermore, instead of looking at separate channels, indexing can also be used to extract subimages:"
   ]
  },
  {
   "cell_type": "code",
   "execution_count": null,
   "id": "065c4f71-8d56-49bb-9736-014ed32eade1",
   "metadata": {},
   "outputs": [],
   "source": [
    "sub_image = img_rgb[100:200, 100:200,:] # extract a 100x100 subimage starting at location 100, 100\n",
    "plt.imshow(sub_image)"
   ]
  },
  {
   "cell_type": "markdown",
   "id": "fb1140ba-6c61-4cde-a74d-ca37111aeb38",
   "metadata": {},
   "source": [
    "We can also highlight which region was extracted:"
   ]
  },
  {
   "cell_type": "code",
   "execution_count": null,
   "id": "94ed6e26-573e-45ef-87d2-66dfea6229a9",
   "metadata": {},
   "outputs": [],
   "source": [
    "tmp_img = np.copy(img_rgb)\n",
    "tmp_img[100:200, 100:200,:] += 100\n",
    "\n",
    "plt.imshow(tmp_img)"
   ]
  },
  {
   "cell_type": "markdown",
   "id": "c216e139-ff61-4448-8ce1-9ca1b042abe4",
   "metadata": {},
   "source": [
    "Adding a value to a pixel increases its brightness. Though one always has to keep in mind that it is easily possible to overflow an 8-bit integer, i.e. the reason for the green spots in the highlighted region. A simple example:"
   ]
  },
  {
   "cell_type": "code",
   "execution_count": null,
   "id": "254215f1-2b26-4c4d-b6c4-fb0e7a066018",
   "metadata": {},
   "outputs": [],
   "source": [
    "zeros = np.zeros((10, 10), dtype=np.uint8) # Create an 10x10 matrix using a datatype of 8-bit integer (unsigned) and initialize with zeros\n",
    "print(zeros)"
   ]
  },
  {
   "cell_type": "code",
   "execution_count": null,
   "id": "c48bbd8b-296f-48da-b4fb-77234dc04f7b",
   "metadata": {},
   "outputs": [],
   "source": [
    "zeros += 255 # Add 255 to the array and print result\n",
    "print(zeros) "
   ]
  },
  {
   "cell_type": "code",
   "execution_count": null,
   "id": "a8a0bf59-2bd2-499d-9273-36c17cf6a114",
   "metadata": {},
   "outputs": [],
   "source": [
    "zeros += 1 # Add 1 to the array and print result\n",
    "print(zeros) "
   ]
  },
  {
   "cell_type": "markdown",
   "id": "f95993f2-9bd2-4277-adcd-96e02a0299e9",
   "metadata": {},
   "source": [
    "NumPy has many functionalities that can help with image processing/data processing overall:"
   ]
  },
  {
   "cell_type": "code",
   "execution_count": null,
   "id": "d095c3da-c850-4a8d-9133-26a8a114c581",
   "metadata": {},
   "outputs": [],
   "source": [
    "new_img = np.zeros((128, 128, 3), dtype=np.uint8) # Create a 0-initialized 128x128 matrix with 3 channels (8 bit)\n",
    "plt.imshow(new_img) # Can be interpreted as image"
   ]
  },
  {
   "cell_type": "code",
   "execution_count": null,
   "id": "2412db29-7497-4a3b-a41e-6cb0666fc204",
   "metadata": {},
   "outputs": [],
   "source": [
    "new_img = np.ones((128, 128, 3), dtype=np.uint8) # Create a 1-initialized 128x128 matrix with 3 channels (8 bit)\n",
    "plt.imshow(new_img) # Can be interpreted as image"
   ]
  },
  {
   "cell_type": "code",
   "execution_count": null,
   "id": "57915523-0cc7-435a-887a-a3552747d19a",
   "metadata": {},
   "outputs": [],
   "source": [
    "new_img*=100 # Can be multiplied by scalar\n",
    "plt.imshow(new_img)"
   ]
  },
  {
   "cell_type": "code",
   "execution_count": null,
   "id": "6714d9b4-16e1-4f93-8c98-9aef36b92cd8",
   "metadata": {},
   "outputs": [],
   "source": [
    "new_img = np.empty((128, 128, 3), dtype=np.uint8) # Create an empty matrix with 3 channels (8 bit)\n",
    "plt.imshow(new_img)"
   ]
  },
  {
   "cell_type": "code",
   "execution_count": null,
   "id": "74b22a46-0ce4-43ad-96ed-0aba9ad8bb68",
   "metadata": {},
   "outputs": [],
   "source": [
    "new_img = np.random.random((128, 128, 3)) # Create a random 128x128 matrix with 3 channels with uniform distribution [0, 1)\n",
    "print(new_img[0:10, 0:10, 0])\n",
    "print(new_img.dtype) # Check the data type"
   ]
  },
  {
   "cell_type": "code",
   "execution_count": null,
   "id": "b4177b21-2248-4495-9eec-c18d74a68cdf",
   "metadata": {},
   "outputs": [],
   "source": [
    "plt.imshow(new_img) # Can be displayed as an image"
   ]
  },
  {
   "cell_type": "markdown",
   "id": "931a16a6-f460-453a-ae41-e22153f725b9",
   "metadata": {},
   "source": [
    "There are also more advanced modes of indexing data, e.g. using arrays of boolean:"
   ]
  },
  {
   "cell_type": "code",
   "execution_count": null,
   "id": "71058785-5322-439c-9fc4-a280707f2a63",
   "metadata": {},
   "outputs": [],
   "source": [
    "a = np.arange(15) # Create an array with 15 elements (ranging from 0 to 14)\n",
    "print(a)\n",
    "a = a.reshape((3, 5)) # Change the shape of the array to 3x5 matrix\n",
    "print(a)\n",
    "ind = a == 2 # Find all entries equal to 2\n",
    "\n",
    "print(ind)\n",
    "a[ind] = 3 # Repleace all 2's with 3's \n",
    "print(a)\n",
    "ind = a % 3 == 0 # Find all entries divisible by 3\n",
    "print(ind)\n",
    "a[ind] = 0 # Replace with 0's\n",
    "print(a)"
   ]
  },
  {
   "cell_type": "code",
   "execution_count": null,
   "id": "36e72f45-832e-4f77-9fe7-d9d3f3288f03",
   "metadata": {},
   "outputs": [],
   "source": [
    "ind = img_rgb == [0, 0, 0] # Find all black pixels\n",
    "print(ind.any(), ind.all()) # Are any pixels black? Are all black?\n",
    "img_tmp = np.copy(img_rgb)\n",
    "img_tmp[ind.any(axis=2),:] = 255 # Set all while pixels to white\n",
    "plt.imshow(img_tmp)"
   ]
  },
  {
   "cell_type": "code",
   "execution_count": null,
   "id": "a56300ca-8052-4f72-9ef7-17f91e66b73e",
   "metadata": {},
   "outputs": [],
   "source": []
  }
 ],
 "metadata": {
  "kernelspec": {
   "display_name": "Python 3 (ipykernel)",
   "language": "python",
   "name": "python3"
  },
  "language_info": {
   "codemirror_mode": {
    "name": "ipython",
    "version": 3
   },
   "file_extension": ".py",
   "mimetype": "text/x-python",
   "name": "python",
   "nbconvert_exporter": "python",
   "pygments_lexer": "ipython3",
   "version": "3.8.10"
  }
 },
 "nbformat": 4,
 "nbformat_minor": 5
}
