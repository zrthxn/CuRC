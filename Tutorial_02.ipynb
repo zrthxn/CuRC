{
 "cells": [
  {
   "cell_type": "markdown",
   "id": "651c41d9-420a-4e96-af86-0ccfa1fcd7b2",
   "metadata": {},
   "source": [
    "# <center><font> Tutorial #2 Computer- and robot-assisted surgery</font></center>\n",
    "## <center><font> Computer Vision Basics I</font></center>\n",
    "<center>&copy; Sebastian Bodenstedt, National Center for Tumor Diseases (NCT) Dresden<br>\n",
    "    <a href=\"https://www.nct-dresden.de/\"><img src=\"https://www.nct-dresden.de/++theme++nct/images/logo-nct-en.svg\"></a> </center>"
   ]
  },
  {
   "cell_type": "markdown",
   "id": "ad2a39e8-11e2-4924-9b39-76590ee4a258",
   "metadata": {},
   "source": [
    "## <center><font>Preperation</font></center>"
   ]
  },
  {
   "cell_type": "markdown",
   "id": "36f6b125-ddac-45d1-9bca-b1ff36588acf",
   "metadata": {},
   "source": [
    "For this tutorial, we will utilize the OpenCV, Matplotlib and NumPy:"
   ]
  },
  {
   "cell_type": "code",
   "execution_count": null,
   "id": "15771f22-b5e5-4a26-9ff5-3a6285d6d46a",
   "metadata": {},
   "outputs": [],
   "source": [
    "# Install numpy, opencv and matplot-lib pip packages into the current Jupyter kernel\n",
    "import sys"
   ]
  },
  {
   "cell_type": "code",
   "execution_count": null,
   "id": "eb072f65-e316-4971-af26-99319c4584c1",
   "metadata": {},
   "outputs": [],
   "source": [
    "import cv2\n",
    "import numpy as np\n",
    "# Force Matplotlib to display data directly in Jupyter\n",
    "%matplotlib inline \n",
    "from matplotlib import pyplot as plt"
   ]
  },
  {
   "cell_type": "markdown",
   "id": "064408b2-2803-49b3-ac0c-c2e2f190d735",
   "metadata": {},
   "source": [
    "We will also download and extract a few images:"
   ]
  },
  {
   "cell_type": "code",
   "execution_count": null,
   "id": "4ad1f45c-9c7a-4d5f-a3a9-32e76298d5ce",
   "metadata": {},
   "outputs": [],
   "source": [
    "import urllib.request\n",
    "from os.path import basename, exists\n",
    "import zipfile\n",
    "\n",
    "def download_and_extract(url): #download and extract Zip archive\n",
    "    file_path = basename(url)\n",
    "    if not exists(file_path): # does zip file already exist?\n",
    "        urllib.request.urlretrieve(url, file_path) # if not, download it\n",
    "        with zipfile.ZipFile(file_path, 'r') as zip_ref: # and unzip it\n",
    "            zip_ref.extractall(\".\")"
   ]
  },
  {
   "cell_type": "code",
   "execution_count": null,
   "id": "7f94bfb6-1886-4889-ac54-095702a2093f",
   "metadata": {},
   "outputs": [],
   "source": [
    "download_and_extract(\"http://tso.ukdd.de/crs/Exercise1.zip\") # In case you didn't download the data last week"
   ]
  },
  {
   "cell_type": "markdown",
   "id": "6da43280-1dfc-4da7-847f-6d1fc6b29ad3",
   "metadata": {},
   "source": [
    "We now list the extracted files:"
   ]
  },
  {
   "cell_type": "code",
   "execution_count": null,
   "id": "ff4538ff-1119-4562-9395-7a9f279d37f8",
   "metadata": {},
   "outputs": [],
   "source": [
    "!dir *"
   ]
  },
  {
   "cell_type": "markdown",
   "id": "2f6e2ce0-3e57-4585-b6f6-19f26f5fee66",
   "metadata": {},
   "source": [
    "## <center><font color=navy>Review</font></center>\n",
    "We can utilize OpenCV to read one of the images from HD and NumPy to process the data."
   ]
  },
  {
   "cell_type": "code",
   "execution_count": null,
   "id": "65c5ea7a-ce82-4490-a5e8-c771a0404c33",
   "metadata": {},
   "outputs": [],
   "source": [
    "img = cv2.imread(\"Exercise1/img_01_raw.png\") # Read image from HD"
   ]
  },
  {
   "cell_type": "markdown",
   "id": "53f9dffd-36bf-43e8-85f6-dd022d01bfec",
   "metadata": {},
   "source": [
    "We can then visualize images with Matplotlib."
   ]
  },
  {
   "cell_type": "code",
   "execution_count": null,
   "id": "1ad59d46-cb5d-4d5f-9beb-85e922de607d",
   "metadata": {},
   "outputs": [],
   "source": [
    "plt.imshow(img) # Display image"
   ]
  },
  {
   "cell_type": "markdown",
   "id": "fcbde30b-7b3b-4113-9553-b9654963a626",
   "metadata": {},
   "source": [
    "The result looks off, as OpenCV uses BGR color format, Matplot uses RGB. We therefore have to convert the result first:"
   ]
  },
  {
   "cell_type": "code",
   "execution_count": null,
   "id": "b0264d25-98f3-408f-9f78-b209e4d168e3",
   "metadata": {},
   "outputs": [],
   "source": [
    "img_rgb = cv2.cvtColor(img, cv2.COLOR_BGR2RGB) # Convert BGR to RGB\n",
    "\n",
    "plt.imshow(img_rgb) # Display result"
   ]
  },
  {
   "cell_type": "markdown",
   "id": "e6205b8f-820f-4b87-9159-72b2d21a0e51",
   "metadata": {},
   "source": [
    "A lot of the methods introduced in the lecture are more easily applied to grayscale images, we can also use OpenCV to convert BGR to Grayscale:"
   ]
  },
  {
   "cell_type": "code",
   "execution_count": null,
   "id": "d29d91ed-48e9-483b-b189-cbb67558810d",
   "metadata": {},
   "outputs": [],
   "source": [
    "img_gray = cv2.cvtColor(img, cv2.COLOR_BGR2GRAY) # Convert BGR to grayscale\n",
    "\n",
    "plt.imshow(img_gray) # Display result"
   ]
  },
  {
   "cell_type": "markdown",
   "id": "8afaa462-f52b-40c9-a7e5-0fb6a28bdc18",
   "metadata": {},
   "source": [
    "For single channel images, a mapping to grayscale needs to be specified:"
   ]
  },
  {
   "cell_type": "code",
   "execution_count": null,
   "id": "7cfd2c6b-4f15-4af2-aa2c-e7f6ed5fe128",
   "metadata": {},
   "outputs": [],
   "source": [
    "plt.imshow(img_gray, cmap='gray', vmin=0, vmax=255) # Display results"
   ]
  },
  {
   "cell_type": "markdown",
   "id": "903b90f7-29b8-48b9-bc26-4e21cd044e81",
   "metadata": {},
   "source": [
    "As we will need this function regularly, we define a briefer alias:"
   ]
  },
  {
   "cell_type": "code",
   "execution_count": null,
   "id": "5a02456b-295c-4fbc-8ae9-f860268c66b2",
   "metadata": {},
   "outputs": [],
   "source": [
    "def show_gray(img, canvas=plt): # Later we want to draw on a different underground, so we define this as a parameter\n",
    "    canvas.imshow(img, cmap='gray', vmin=0, vmax=255)"
   ]
  },
  {
   "cell_type": "code",
   "execution_count": null,
   "id": "0c5d192b-738d-4f78-9d92-85faa426165d",
   "metadata": {},
   "outputs": [],
   "source": [
    "show_gray(img_gray) # Use Alias"
   ]
  },
  {
   "cell_type": "markdown",
   "id": "3555b460-ebb8-40ff-bf54-28187792a393",
   "metadata": {},
   "source": [
    "## <center><font color=navy>Histograms</font></center>\n",
    "One metrics for describing images is the histogram. We can easily compute histograms using Numpy:"
   ]
  },
  {
   "cell_type": "code",
   "execution_count": null,
   "id": "492c2add-cf07-4576-881e-6075a1d56755",
   "metadata": {},
   "outputs": [],
   "source": [
    "num_values = 256 # Number of values to consider. For 8-bit 256 values are possible\n",
    "\n",
    "histogram = np.zeros(num_values, dtype=np.int64) # Initialize histogram with zeros"
   ]
  },
  {
   "cell_type": "code",
   "execution_count": null,
   "id": "47178f57-e019-4ebe-be8a-39a3a3457d4a",
   "metadata": {},
   "outputs": [],
   "source": [
    "for i in range(num_values): # Iterate over all possible values\n",
    "    histogram[i] = np.sum(img_gray == i) # Count occurences in data"
   ]
  },
  {
   "cell_type": "code",
   "execution_count": null,
   "id": "0fa1f067-8911-46c3-a1d6-36d965f1fc67",
   "metadata": {},
   "outputs": [],
   "source": [
    "print(histogram)"
   ]
  },
  {
   "cell_type": "markdown",
   "id": "82885f79-e641-4b51-90f1-24b2cd9e3a27",
   "metadata": {},
   "source": [
    "The histogram can be more easily interpreted as a plot:"
   ]
  },
  {
   "cell_type": "code",
   "execution_count": null,
   "id": "3957fa9f-c206-417c-9df2-2f31bb14d5f2",
   "metadata": {},
   "outputs": [],
   "source": [
    "plt.stairs(histogram) # Plot as stairs diagram"
   ]
  },
  {
   "cell_type": "markdown",
   "id": "1c0195b0-38b1-4510-8137-f33242fe3573",
   "metadata": {},
   "source": [
    "Generally histograms are normalized:"
   ]
  },
  {
   "cell_type": "code",
   "execution_count": null,
   "id": "178c18e2-40c1-4c3b-9d2c-ab1ab4392cfd",
   "metadata": {},
   "outputs": [],
   "source": [
    "normalized_histogram = histogram/(img_gray.shape[0]*img_gray.shape[1]) # Normalize histogram\n",
    "\n",
    "plt.stairs(normalized_histogram)\n",
    "print(\"Sum\", np.sum(normalized_histogram))"
   ]
  },
  {
   "cell_type": "markdown",
   "id": "6c257b9c-2bbe-4152-9aa4-26f6fa5a5f8e",
   "metadata": {},
   "source": [
    "Alternatively, OpenCV also provides a (probably faster) function for computing histograms:"
   ]
  },
  {
   "cell_type": "code",
   "execution_count": null,
   "id": "d0f111fa-11fe-45d1-96b1-0d651e0e044a",
   "metadata": {},
   "outputs": [],
   "source": [
    "hist = cv2.calcHist([img_gray],[0],None,[256],[0,256]) # Calculate histogram using OpenCV\n",
    "print(hist.shape) # See shape\n",
    "hist = hist.reshape(-1) # Modify shape\n",
    "plt.stairs(hist)"
   ]
  },
  {
   "cell_type": "markdown",
   "id": "5cd6560f-7826-42ae-bfcf-85e1fa519f13",
   "metadata": {},
   "source": [
    "Let's combine this into one function:"
   ]
  },
  {
   "cell_type": "code",
   "execution_count": null,
   "id": "e6b4bf83-72a4-4cb7-abc7-cacc9b12ba9f",
   "metadata": {},
   "outputs": [],
   "source": [
    "def calc_histogram(image):\n",
    "    num_values = 256 # Number of values to consider. For 8-bit 256 values are possible\n",
    "\n",
    "    histogram = np.zeros(num_values, dtype=np.int64) # Initialize histogram with zeros\n",
    "    #TODO\n",
    "    return histogram"
   ]
  },
  {
   "cell_type": "code",
   "execution_count": null,
   "id": "213ca4f4-f62d-4290-8353-f7a63513f4d0",
   "metadata": {},
   "outputs": [],
   "source": [
    "h = calc_histogram(img_gray)\n",
    "plt.stairs(h)"
   ]
  },
  {
   "cell_type": "markdown",
   "id": "1cf37ed3-c7cc-46ad-ba15-7787448ba878",
   "metadata": {},
   "source": [
    "Let's load a different image and take a look at its histogram:"
   ]
  },
  {
   "cell_type": "code",
   "execution_count": null,
   "id": "bb76fe86-0623-4ae7-a0cf-c6b23bb12097",
   "metadata": {},
   "outputs": [],
   "source": [
    "img_ct = cv2.imread(\"Exercise1/ct1.png\")\n",
    "img_ct = cv2.cvtColor(img_ct, cv2.COLOR_BGR2GRAY)"
   ]
  },
  {
   "cell_type": "code",
   "execution_count": null,
   "id": "df225249-ad88-4f1e-b7e4-baf21c30b93e",
   "metadata": {},
   "outputs": [],
   "source": [
    "figure, axis = plt.subplots(2, 1, figsize=(15, 15)) # subplots let you visualize multiple outputs simultanously\n",
    "\n",
    "show_gray(img_ct, axis[0]) # the axis can be used identically to plt before\n",
    "\n",
    "h = calc_histogram(img_ct)\n",
    "axis[1].stairs(h)"
   ]
  },
  {
   "cell_type": "markdown",
   "id": "b97d9a70-75da-4b22-b296-9d8609606698",
   "metadata": {},
   "source": [
    "We can also calculate a histogram of each channel of an RGB-image and combine them:"
   ]
  },
  {
   "cell_type": "code",
   "execution_count": null,
   "id": "08b7f1ea-4846-486b-8e72-cbd5dd33ddfd",
   "metadata": {},
   "outputs": [],
   "source": [
    "# Calculate the histogram per channel\n",
    "\n",
    "#TODO\n",
    "figure, axis = plt.subplots(2, 1, figsize=(15, 15))\n",
    "\n",
    "axis[0].imshow(img_rgb)\n",
    "\n",
    "axis[1].stairs(h_r, color=\"r\")\n",
    "axis[1].stairs(h_g, color=\"g\")\n",
    "axis[1].stairs(h_b, color=\"b\")"
   ]
  },
  {
   "cell_type": "markdown",
   "id": "afe35e12-0bf6-4ce9-b47d-a29f907ea082",
   "metadata": {},
   "source": [
    "## <center><font color=navy>Point operations</font></center>\n",
    "Point operations modify the value of a pixel, considering only its position and value, no other context, e.g.:"
   ]
  },
  {
   "cell_type": "code",
   "execution_count": null,
   "id": "7c00d9df-b58f-4985-992b-b7222c66d9d5",
   "metadata": {},
   "outputs": [],
   "source": [
    "def point_operation(image):\n",
    "    img_out = np.copy(image)\n",
    "    \n",
    "    pos_x = np.arange(image.shape[1]).reshape(1, -1)\n",
    "    pos_y = np.arange(image.shape[0]).reshape(-1, 1)\n",
    "    \n",
    "    pos_xy = pos_x * pos_y\n",
    "    \n",
    "    ind = pos_xy % 2 == 0\n",
    "    img_out[ind]*= 2\n",
    "    img_out[np.logical_not(ind)]*= 4\n",
    "    \n",
    "    return img_out\n",
    "\n",
    "img_out = point_operation(img_gray)\n",
    "\n",
    "figure, axis = plt.subplots(1, 2, figsize=(15, 15))\n",
    "\n",
    "show_gray(img_gray, axis[0])\n",
    "show_gray(img_out, axis[1])"
   ]
  },
  {
   "cell_type": "markdown",
   "id": "eb926a05-a22f-49dc-8616-f0edbfd091ba",
   "metadata": {},
   "source": [
    "Homogeneous transformations only consider the value of a pixel, e.g. affine transformations:"
   ]
  },
  {
   "cell_type": "code",
   "execution_count": null,
   "id": "88ad7be4-ea62-454b-a64c-2c633a3060ea",
   "metadata": {},
   "outputs": [],
   "source": [
    "def affine_operation(image, a, b):\n",
    "    #TODO\n",
    "    \n",
    "    return img_out"
   ]
  },
  {
   "cell_type": "code",
   "execution_count": null,
   "id": "b938faac-a4ed-4b71-944d-92a85ac775bc",
   "metadata": {},
   "outputs": [],
   "source": [
    "figure, axis = plt.subplots(1, 2, figsize=(15, 15))\n",
    "\n",
    "img_res = affine_operation(img_gray, -1, 255)\n",
    "\n",
    "show_gray(img_gray, axis[0])\n",
    "show_gray(img_res, axis[1])"
   ]
  },
  {
   "cell_type": "markdown",
   "id": "2c11ff15-0c28-439c-8e03-df4f3c876b56",
   "metadata": {},
   "source": [
    "### <center><font color=navy>Histogram Spread</font></center>\n",
    "Simple operation for increasing the contrast in a given image:"
   ]
  },
  {
   "cell_type": "code",
   "execution_count": null,
   "id": "62d41daf-6ee9-4f56-9368-30a6557aba88",
   "metadata": {},
   "outputs": [],
   "source": [
    "def histogram_spread(image):\n",
    "    #TODO\n",
    "    \n",
    "    return affine_operation(image, a, b)"
   ]
  },
  {
   "cell_type": "code",
   "execution_count": null,
   "id": "44382fde-fe84-4e77-9082-5fb8d61c1156",
   "metadata": {
    "tags": []
   },
   "outputs": [],
   "source": [
    "img_ct_res = histogram_spread(img_ct)\n",
    "\n",
    "figure, axis = plt.subplots(2, 2, figsize=(15, 15))\n",
    "\n",
    "show_gray(img_ct, axis[0, 0])\n",
    "show_gray(img_ct_res, axis[0, 1])\n",
    "\n",
    "h_ct = calc_histogram(img_ct)\n",
    "h_ct_res = calc_histogram(img_ct_res)\n",
    "\n",
    "axis[1, 0].stairs(h_ct)\n",
    "axis[1, 1].stairs(h_ct_res)\n"
   ]
  },
  {
   "cell_type": "markdown",
   "id": "b7c41f33-5d2a-4742-ada2-d7f1444a10c3",
   "metadata": {},
   "source": [
    "### <center><font color=navy>Histogram Stretch</font></center>\n",
    "Improved operation for increasing the contrast in a given image:"
   ]
  },
  {
   "cell_type": "code",
   "execution_count": null,
   "id": "fdee993f-13fd-4a33-b22b-6eb8d1b9a420",
   "metadata": {},
   "outputs": [],
   "source": [
    "def histogram_stretch(image, p_min=0.1, p_max=0.9):\n",
    "    #TODO\n",
    "    \n",
    "    return affine_operation(image, a, b)"
   ]
  },
  {
   "cell_type": "code",
   "execution_count": null,
   "id": "8f51b729-7c57-4f6b-a7c9-39e2074b5a4e",
   "metadata": {},
   "outputs": [],
   "source": [
    "img_ct_res = histogram_stretch(img_ct)\n",
    "\n",
    "figure, axis = plt.subplots(2, 2, figsize=(15, 15))\n",
    "\n",
    "show_gray(img_ct, axis[0, 0])\n",
    "show_gray(img_ct_res, axis[0, 1])\n",
    "\n",
    "h_ct = calc_histogram(img_ct)\n",
    "h_ct_res = calc_histogram(img_ct_res)\n",
    "\n",
    "axis[1, 0].stairs(h_ct)\n",
    "axis[1, 1].stairs(h_ct_res)"
   ]
  },
  {
   "cell_type": "markdown",
   "id": "5855bc8a-af63-457a-98c4-6cdbf150aa94",
   "metadata": {},
   "source": [
    "### <center><font color=navy>Histogram equalization</font></center>\n",
    "Further improved operation for increasing the contrast in a given image:"
   ]
  },
  {
   "cell_type": "code",
   "execution_count": null,
   "id": "4a174a02-2f23-4a96-a997-56fc8036aea2",
   "metadata": {},
   "outputs": [],
   "source": [
    "def histogram_equalization(image):\n",
    "    #TODO\n",
    "    \n",
    "    return img_out"
   ]
  },
  {
   "cell_type": "code",
   "execution_count": null,
   "id": "7e3267dd-c125-4068-bc94-c8177c28174f",
   "metadata": {},
   "outputs": [],
   "source": [
    "img_ct_res = histogram_equalization(img_ct)\n",
    "\n",
    "figure, axis = plt.subplots(2, 2, figsize=(15, 15))\n",
    "\n",
    "show_gray(img_ct, axis[0, 0])\n",
    "show_gray(img_ct_res, axis[0, 1])\n",
    "\n",
    "h_ct = calc_histogram(img_ct)\n",
    "h_ct_res = calc_histogram(img_ct_res)\n",
    "\n",
    "axis[1, 0].stairs(h_ct)\n",
    "axis[1, 1].stairs(h_ct_res)"
   ]
  },
  {
   "cell_type": "markdown",
   "id": "0347e45e-a9ef-4657-8371-89985fd8a9aa",
   "metadata": {},
   "source": [
    "### <center><font color=navy>Color images</font></center>\n",
    "These techniques can of course also be applied to color images:"
   ]
  },
  {
   "cell_type": "code",
   "execution_count": null,
   "id": "6bdd6af6-8e5c-4a9e-812f-0bdba9283ce4",
   "metadata": {},
   "outputs": [],
   "source": [
    "color_out = np.copy(img_rgb)\n",
    "\n",
    "#TODO\n",
    "\n",
    "figure, axis = plt.subplots(1, 2, figsize=(15, 15))\n",
    "\n",
    "axis[0].imshow(img_rgb)\n",
    "axis[1].imshow(color_out)"
   ]
  },
  {
   "cell_type": "code",
   "execution_count": null,
   "id": "aa1d7956-37d7-453f-b897-8015905751dc",
   "metadata": {},
   "outputs": [],
   "source": [
    "color_out = np.copy(img_rgb)\n",
    "\n",
    "#TODO\n",
    "\n",
    "figure, axis = plt.subplots(1, 2, figsize=(15, 15))\n",
    "\n",
    "axis[0].imshow(img_rgb)\n",
    "axis[1].imshow(color_out)"
   ]
  },
  {
   "cell_type": "code",
   "execution_count": null,
   "id": "66309874-d617-40d5-8c35-babbf8d53a3e",
   "metadata": {},
   "outputs": [],
   "source": [
    "color_out = np.copy(img_rgb)\n",
    "\n",
    "#TODO\n",
    "\n",
    "figure, axis = plt.subplots(1, 2, figsize=(15, 15))\n",
    "\n",
    "axis[0].imshow(img_rgb)\n",
    "axis[1].imshow(color_out)"
   ]
  },
  {
   "cell_type": "code",
   "execution_count": null,
   "id": "e90175e2-8558-4e43-8463-9bb7cde8490f",
   "metadata": {},
   "outputs": [],
   "source": []
  }
 ],
 "metadata": {
  "kernelspec": {
   "display_name": "Python 3 (ipykernel)",
   "language": "python",
   "name": "python3"
  },
  "language_info": {
   "codemirror_mode": {
    "name": "ipython",
    "version": 3
   },
   "file_extension": ".py",
   "mimetype": "text/x-python",
   "name": "python",
   "nbconvert_exporter": "python",
   "pygments_lexer": "ipython3",
   "version": "3.8.10"
  }
 },
 "nbformat": 4,
 "nbformat_minor": 5
}
